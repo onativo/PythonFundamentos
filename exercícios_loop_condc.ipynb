{
  "nbformat": 4,
  "nbformat_minor": 0,
  "metadata": {
    "colab": {
      "name": "Untitled2.ipynb",
      "provenance": [],
      "authorship_tag": "ABX9TyNX+Dq2V4DhmUzUHPFG1Fak",
      "include_colab_link": true
    },
    "kernelspec": {
      "name": "python3",
      "display_name": "Python 3"
    },
    "language_info": {
      "name": "python"
    }
  },
  "cells": [
    {
      "cell_type": "markdown",
      "metadata": {
        "id": "view-in-github",
        "colab_type": "text"
      },
      "source": [
        "<a href=\"https://colab.research.google.com/github/onativo/PythonFundamentos/blob/master/exerc%C3%ADcios_loop_condc.ipynb\" target=\"_parent\"><img src=\"https://colab.research.google.com/assets/colab-badge.svg\" alt=\"Open In Colab\"/></a>"
      ]
    },
    {
      "cell_type": "markdown",
      "metadata": {
        "id": "swlrS5T6D2Tl"
      },
      "source": [
        "##Exercícios Loops e Condiconais"
      ]
    },
    {
      "cell_type": "markdown",
      "metadata": {
        "id": "00LKx2OhFE0z"
      },
      "source": [
        "**Dia da semana**"
      ]
    },
    {
      "cell_type": "code",
      "metadata": {
        "colab": {
          "base_uri": "https://localhost:8080/"
        },
        "id": "Ve9lYVQAkkiU",
        "outputId": "23b765b9-2aa3-4841-e3b6-8ee4d7243476"
      },
      "source": [
        "dia = input('Hoje é: ')\n",
        "dia = dia.lower()\n",
        "if dia == 'sábado' or dia == 'domingo':\n",
        "  print('Hoje é dia de descanso ;)')\n",
        "else:\n",
        "  print('Vai trabalhar meu amigo!')"
      ],
      "execution_count": 58,
      "outputs": [
        {
          "output_type": "stream",
          "name": "stdout",
          "text": [
            "Hoje é: quarta feira\n",
            "Vai trabalhar meu amigo!\n"
          ]
        }
      ]
    },
    {
      "cell_type": "markdown",
      "metadata": {
        "id": "ndYmTlG1FGyw"
      },
      "source": [
        "**Verificador de fruta**"
      ]
    },
    {
      "cell_type": "code",
      "metadata": {
        "colab": {
          "base_uri": "https://localhost:8080/"
        },
        "id": "RMFXrCQ04V6o",
        "outputId": "d73cea12-b248-43b1-f751-69252d1b7411"
      },
      "source": [
        "frutas = ['uva', 'morango', 'goiaba', 'kiwi', 'laranja']\n",
        "for i in frutas:\n",
        "  if i == 'morango':\n",
        "    print(f'tem {i} na lista de compra!')\n",
        "    "
      ],
      "execution_count": 68,
      "outputs": [
        {
          "output_type": "stream",
          "name": "stdout",
          "text": [
            "tem morango na lista de compra!\n"
          ]
        }
      ]
    },
    {
      "cell_type": "markdown",
      "metadata": {
        "id": "yRqkoEFyGEck"
      },
      "source": [
        "**Tupla de 4 elementos multiplicados**"
      ]
    },
    {
      "cell_type": "code",
      "metadata": {
        "colab": {
          "base_uri": "https://localhost:8080/"
        },
        "id": "lwHlwwuxGHv0",
        "outputId": "cd5275cd-365c-4652-bff2-f3697fa06f93"
      },
      "source": [
        "tupla = (1, 2, 3, 4)\n",
        "lista = []\n",
        "for i in tupla:\n",
        "  i *= 2\n",
        "  lista.append(i)\n",
        "print(lista)"
      ],
      "execution_count": 69,
      "outputs": [
        {
          "output_type": "stream",
          "name": "stdout",
          "text": [
            "[2, 4, 6, 8]\n"
          ]
        }
      ]
    },
    {
      "cell_type": "markdown",
      "metadata": {
        "id": "ziDbwAYcGgKK"
      },
      "source": [
        "**Números pares entr 100 e 150**"
      ]
    },
    {
      "cell_type": "code",
      "metadata": {
        "id": "d6GwiLiPGe86"
      },
      "source": [
        "for i in range (100, 151, 2):\n",
        "  print(i)"
      ],
      "execution_count": null,
      "outputs": []
    },
    {
      "cell_type": "markdown",
      "metadata": {
        "id": "3pkxFlQwGzDB"
      },
      "source": [
        "**Variavel Temperatura**"
      ]
    },
    {
      "cell_type": "code",
      "metadata": {
        "colab": {
          "base_uri": "https://localhost:8080/"
        },
        "id": "T67Owy7ZG55k",
        "outputId": "d7e71de5-09d2-475f-ab94-3ca0c42dfb69"
      },
      "source": [
        "temp = 40\n",
        "\n",
        "while temp > 35:\n",
        "  print(temp)\n",
        "  temp -= 1\n"
      ],
      "execution_count": 199,
      "outputs": [
        {
          "output_type": "stream",
          "name": "stdout",
          "text": [
            "40\n",
            "39\n",
            "38\n",
            "37\n",
            "36\n"
          ]
        }
      ]
    },
    {
      "cell_type": "markdown",
      "metadata": {
        "id": "E-mULQ0kHbsQ"
      },
      "source": [
        "**Variável contador**"
      ]
    },
    {
      "cell_type": "code",
      "metadata": {
        "colab": {
          "base_uri": "https://localhost:8080/"
        },
        "id": "B5jN0VF2Hew9",
        "outputId": "5ad087cc-79a2-4fb4-813e-5ebc9eebf45e"
      },
      "source": [
        "cont = 0\n",
        "while cont <= 100:\n",
        "  if cont == 23:\n",
        "    break\n",
        "  print(cont)\n",
        "  cont += 1\n"
      ],
      "execution_count": 200,
      "outputs": [
        {
          "output_type": "stream",
          "name": "stdout",
          "text": [
            "0\n",
            "1\n",
            "2\n",
            "3\n",
            "4\n",
            "5\n",
            "6\n",
            "7\n",
            "8\n",
            "9\n",
            "10\n",
            "11\n",
            "12\n",
            "13\n",
            "14\n",
            "15\n",
            "16\n",
            "17\n",
            "18\n",
            "19\n",
            "20\n",
            "21\n",
            "22\n"
          ]
        }
      ]
    },
    {
      "cell_type": "markdown",
      "metadata": {
        "id": "xGJC-6z6L0aQ"
      },
      "source": [
        "**Lista vazia**"
      ]
    },
    {
      "cell_type": "code",
      "metadata": {
        "colab": {
          "base_uri": "https://localhost:8080/"
        },
        "id": "EP6rFXJyL5Fd",
        "outputId": "93a46415-9bbf-42c0-d96f-3d0f700ea388"
      },
      "source": [
        "list1 = []\n",
        "var = 4\n",
        "\n",
        "while var <= 20:\n",
        "  list1.append(var)\n",
        "  var += 2\n",
        "print(list1)"
      ],
      "execution_count": 159,
      "outputs": [
        {
          "output_type": "stream",
          "name": "stdout",
          "text": [
            "[4, 6, 8, 10, 12, 14, 16, 18, 20]\n"
          ]
        }
      ]
    },
    {
      "cell_type": "markdown",
      "metadata": {
        "id": "Eyu8SdNiO-jq"
      },
      "source": [
        "**Transforme o resultado numa lista**"
      ]
    },
    {
      "cell_type": "code",
      "metadata": {
        "colab": {
          "base_uri": "https://localhost:8080/"
        },
        "id": "02oxoDiqNJqB",
        "outputId": "20f0042e-98cf-4fe3-cc88-b23e57950bbd"
      },
      "source": [
        "#nums = []\n",
        "#for i in range(5, 45, 2):\n",
        "#  nums.append(i)\n",
        "#print(nums)\n",
        "\n",
        "nums = range(4, 45, 2)\n",
        "print(list(nums))\n"
      ],
      "execution_count": 206,
      "outputs": [
        {
          "output_type": "stream",
          "name": "stdout",
          "text": [
            "[4, 6, 8, 10, 12, 14, 16, 18, 20, 4, 6, 8, 10, 12, 14, 16, 18, 20, 4, 6, 8, 10, 12, 14, 16, 18, 20]\n"
          ]
        }
      ]
    },
    {
      "cell_type": "markdown",
      "metadata": {
        "id": "SRY78vx8PCAM"
      },
      "source": [
        "**Encontre o erro**"
      ]
    },
    {
      "cell_type": "code",
      "metadata": {
        "colab": {
          "base_uri": "https://localhost:8080/"
        },
        "id": "aKqGYmGbPEXK",
        "outputId": "e514d271-6b56-468e-9466-09e875e0a8ed"
      },
      "source": [
        "temp = float(input('Qual a temperatura: '))\n",
        "if temp >= 30:\n",
        "  print('Vista roupas leves')\n",
        "else:\n",
        "  print('Vista casaco.')"
      ],
      "execution_count": 173,
      "outputs": [
        {
          "output_type": "stream",
          "name": "stdout",
          "text": [
            "Qual a temperatura: 29\n",
            "Vista casaco.\n"
          ]
        }
      ]
    },
    {
      "cell_type": "markdown",
      "metadata": {
        "id": "qGoiIjOoParj"
      },
      "source": [
        "**Quantas vezes aparece o R**"
      ]
    },
    {
      "cell_type": "code",
      "metadata": {
        "colab": {
          "base_uri": "https://localhost:8080/"
        },
        "id": "ADjTDVLSPdeP",
        "outputId": "6691daf6-d89e-4741-ca22-581b8232ac92"
      },
      "source": [
        "#r = ('É melhor, muito melhor, contentar-se com a realidade; se ela não é tão brilhante como os sonhos, tem pelo menos a vantagem de existir.')\n",
        "#r.count('r')\n",
        "\n",
        "count = 0\n",
        "frase = 'É melhor, muito melhor, contentar-se com a realidade; se ela não é tão brilhante como os sonhos, tem pelo menos a vantagem de existir.'\n",
        "\n",
        "for caracter in frase:\n",
        "  if caracter == 'r':\n",
        "    count += 1\n",
        "print(f'A letra r aparece {count} vezes na frase')"
      ],
      "execution_count": 210,
      "outputs": [
        {
          "output_type": "stream",
          "name": "stdout",
          "text": [
            "A letra r aparece 6 vezes na frase\n"
          ]
        }
      ]
    }
  ]
}