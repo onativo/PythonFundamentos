{
  "nbformat": 4,
  "nbformat_minor": 0,
  "metadata": {
    "colab": {
      "name": "Exercícios - Cap5.ipynb",
      "provenance": [],
      "collapsed_sections": [],
      "authorship_tag": "ABX9TyO2IxMSq7yCYxo6V3tY/ucS",
      "include_colab_link": true
    },
    "kernelspec": {
      "name": "python3",
      "display_name": "Python 3"
    },
    "language_info": {
      "name": "python"
    }
  },
  "cells": [
    {
      "cell_type": "markdown",
      "metadata": {
        "id": "view-in-github",
        "colab_type": "text"
      },
      "source": [
        "<a href=\"https://colab.research.google.com/github/onativo/PythonFundamentos/blob/master/Exerc%C3%ADcios_Cap5.ipynb\" target=\"_parent\"><img src=\"https://colab.research.google.com/assets/colab-badge.svg\" alt=\"Open In Colab\"/></a>"
      ]
    },
    {
      "cell_type": "markdown",
      "metadata": {
        "id": "x4AocsIOsQvh"
      },
      "source": [
        "**Exercício 1 -** Crie um objeto a partir da classe abaixo, chamado roc1, passando 2 parâmetros e depois faça uma chamada\n",
        "aos atributos e métodos"
      ]
    },
    {
      "cell_type": "code",
      "metadata": {
        "id": "U9qGeU_FsLVy"
      },
      "source": [
        "from math import sqrt\n",
        "\n",
        "class Rocket():\n",
        "     \n",
        "    def __init__(self, x=0, y=0): #dois parâmetros de entrada x e y\n",
        "        self.x = x\n",
        "        self.y = y\n",
        "        print('iniciado') #imprime se foi feito corrretamente\n",
        "        \n",
        "    def move_rocket(self, x_increment=3, y_increment=6): #método, usado no formato xxxxx|.move-rocket| ponto+método, tipo .len()\n",
        "        self.x += x_increment\n",
        "        self.y += y_increment\n",
        "        \n",
        "    def print_rocket(self): #mesma coisa que acima, ponto+nome_do_método\n",
        "        print(self.x, self.y) #aqui retorna as posições atuais de x e y"
      ],
      "execution_count": 101,
      "outputs": []
    },
    {
      "cell_type": "code",
      "metadata": {
        "colab": {
          "base_uri": "https://localhost:8080/"
        },
        "id": "UQewlIAJsV7O",
        "outputId": "79b98469-50eb-44db-968d-a5eecdb393a6"
      },
      "source": [
        "roc1 = Rocket(0, 0) #criei o objeto roc1 a partir da classe Rocket e inseri dois parâmetros"
      ],
      "execution_count": 102,
      "outputs": [
        {
          "output_type": "stream",
          "name": "stdout",
          "text": [
            "iniciado\n"
          ]
        }
      ]
    },
    {
      "cell_type": "code",
      "metadata": {
        "id": "qv04LgX8sfJF"
      },
      "source": [
        "roc1.move_rocket()"
      ],
      "execution_count": 99,
      "outputs": []
    },
    {
      "cell_type": "code",
      "metadata": {
        "colab": {
          "base_uri": "https://localhost:8080/"
        },
        "id": "S5WdRv0Bu4g9",
        "outputId": "99917b13-4494-49a3-eaaf-3973c2aa6d8f"
      },
      "source": [
        "roc1.print_rocket()"
      ],
      "execution_count": 100,
      "outputs": [
        {
          "output_type": "stream",
          "name": "stdout",
          "text": [
            "9 18\n"
          ]
        }
      ]
    },
    {
      "cell_type": "markdown",
      "metadata": {
        "id": "t6LypsGrvzEU"
      },
      "source": [
        "**Exercício 2 -** Crie uma classe chamada Pessoa() com os atributos: nome, cidade, telefone e e-mail. Use pelo menos 2 métodos especiais na sua classe. Crie um objeto da sua classe e faça uma chamada a pelo menos um dos seus métodos especiais."
      ]
    },
    {
      "cell_type": "code",
      "metadata": {
        "id": "e-tj5iRev3ua"
      },
      "source": [
        "class Pessoa():\n",
        "  def __init__(self, nome, cidade, telefone, email):\n",
        "    self.nome = nome\n",
        "    self.cidade = cidade\n",
        "    self.telefone = telefone\n",
        "    self.email = email\n",
        "    print('Iniciado') #imprime se foi feito corrretamente\n",
        "\n",
        "  def nome_telefone(self): #não recebe artumentos dentro dos parênteses\n",
        "    print(f'O nome é: {self.nome} e o telefone é: {self.telefone}') #retorna o pedido\n",
        "\n",
        "  def city_mail(self):\n",
        "    print(f'{self.nome} mora na cidade de: {self.cidade} e seu email é: {self.email}') #outro método que retorna o email e a cidade que a pessoa mora"
      ],
      "execution_count": 164,
      "outputs": []
    },
    {
      "cell_type": "code",
      "metadata": {
        "colab": {
          "base_uri": "https://localhost:8080/"
        },
        "id": "tZZCelBDwaSq",
        "outputId": "0b3754b0-7c17-40f2-aac4-c4ac1b0473d1"
      },
      "source": [
        "pessoa1 = Pessoa('João', 'São Paulo', 1264875241, 'joao@gmail.com') #OBJETO"
      ],
      "execution_count": 166,
      "outputs": [
        {
          "output_type": "stream",
          "name": "stdout",
          "text": [
            "Iniciado\n"
          ]
        }
      ]
    },
    {
      "cell_type": "code",
      "metadata": {
        "colab": {
          "base_uri": "https://localhost:8080/"
        },
        "id": "OdB2z4nCwopf",
        "outputId": "acf9cbd5-13a9-4100-a07e-463e4c8f64eb"
      },
      "source": [
        "pessoa1.nome_telefone()"
      ],
      "execution_count": 167,
      "outputs": [
        {
          "output_type": "stream",
          "name": "stdout",
          "text": [
            "O nome é: João e o telefone é: 1264875241\n"
          ]
        }
      ]
    },
    {
      "cell_type": "code",
      "metadata": {
        "colab": {
          "base_uri": "https://localhost:8080/"
        },
        "id": "f9ZGlJDDzoUB",
        "outputId": "dfb3057e-8927-4b99-e142-e2998f33635b"
      },
      "source": [
        "pessoa1.city_mail()"
      ],
      "execution_count": 168,
      "outputs": [
        {
          "output_type": "stream",
          "name": "stdout",
          "text": [
            "João mora na cidade de: São Paulo e seu email é: joao@gmail.com\n"
          ]
        }
      ]
    },
    {
      "cell_type": "markdown",
      "metadata": {
        "id": "YeKxtTd3z9Fz"
      },
      "source": [
        "\n",
        "\n",
        "---\n",
        "**Exercício 3 -** Crie a classe Smartphone com 2 atributos, tamanho e interface e crie a classe MP3Player com os atributos capacidade. A classe MP3player deve herdar os atributos da classe Smartphone.\n",
        "\n"
      ]
    },
    {
      "cell_type": "code",
      "metadata": {
        "id": "QkvobEej0bAz"
      },
      "source": [
        "class Smartphone(): #criei uma classe chamada Smartphone\n",
        "  def __init__(self, tamanho, interface):\n",
        "    self.tamanho = tamanho      #dei tributos de tamanho e capacidade\n",
        "    self.interface = interface\n",
        "\n",
        "class Mp3Player(Smartphone):    #crieu uma subclasse chamada MP3Player e dei de herança a classe Smartphone\n",
        "  def __init__(self, capacidade, tamanho = 'Pequeno', interface = 'LED'):\n",
        "    self.capacidade = capacidade\n",
        "    Smartphone.__init__(self, tamanho, interface)\n",
        "\n",
        "  def print_mp3player(self):\n",
        "    print(f'Tamanho = {self.tamanho}, Capacidade = {self.capacidade} e Interface = {self.interface}') \n",
        "  \n",
        "  "
      ],
      "execution_count": 198,
      "outputs": []
    },
    {
      "cell_type": "code",
      "metadata": {
        "id": "-2K8Cqg711gE"
      },
      "source": [
        "cell1 = Mp3Player('68GB')"
      ],
      "execution_count": 199,
      "outputs": []
    },
    {
      "cell_type": "code",
      "metadata": {
        "colab": {
          "base_uri": "https://localhost:8080/"
        },
        "id": "JG4E0viA4f88",
        "outputId": "2748c295-dbf8-4ff3-c0f8-fb57a4f0e0bc"
      },
      "source": [
        "cell1.print_mp3player()"
      ],
      "execution_count": 200,
      "outputs": [
        {
          "output_type": "stream",
          "name": "stdout",
          "text": [
            "tamanho = Pequeno, Capacidade = 68GB e interface = LED\n"
          ]
        }
      ]
    }
  ]
}