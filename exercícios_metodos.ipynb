{
  "nbformat": 4,
  "nbformat_minor": 0,
  "metadata": {
    "colab": {
      "name": "exercícios_metodos.ipynb",
      "provenance": [],
      "collapsed_sections": [],
      "authorship_tag": "ABX9TyOqTkk1jI9ZbTf4rDZ/jUot",
      "include_colab_link": true
    },
    "kernelspec": {
      "display_name": "Python 3",
      "name": "python3"
    },
    "language_info": {
      "name": "python"
    }
  },
  "cells": [
    {
      "cell_type": "markdown",
      "metadata": {
        "id": "view-in-github",
        "colab_type": "text"
      },
      "source": [
        "<a href=\"https://colab.research.google.com/github/onativo/PythonFundamentos/blob/master/exerc%C3%ADcios_metodos.ipynb\" target=\"_parent\"><img src=\"https://colab.research.google.com/assets/colab-badge.svg\" alt=\"Open In Colab\"/></a>"
      ]
    },
    {
      "cell_type": "markdown",
      "metadata": {
        "id": "Krr7tO4VhbdV"
      },
      "source": [
        "Exercício 1** - Crie uma lista de 3 elementos e calcule a terceira potência de **cada elemento."
      ]
    },
    {
      "cell_type": "code",
      "metadata": {
        "colab": {
          "base_uri": "https://localhost:8080/"
        },
        "id": "z8br8w1ihMe_",
        "outputId": "55b3d05c-f0a0-4443-bcb7-87c450097ec0"
      },
      "source": [
        "lista = [3,4,5]\n",
        "lista1 = [x**3 for x in lista]\n",
        "print(lista1)"
      ],
      "execution_count": 2,
      "outputs": [
        {
          "output_type": "stream",
          "name": "stdout",
          "text": [
            "[27, 64, 125]\n"
          ]
        }
      ]
    },
    {
      "cell_type": "markdown",
      "metadata": {
        "id": "DziOBZYEjFSl"
      },
      "source": [
        "**Exercício 2** - Reescreva o código abaixo, usando a função map(). O resultado final deve ser o mesmo!\n",
        "\n",
        "palavras = 'A Data Science Academy oferce os melhores cursos de análise de dados do Brasil'.split()\n",
        "\n",
        "resultado = [[w.upper(), w.lower(), len(w)] for w in palavras]\n",
        "\n",
        "for i in resultado:\n",
        "\n",
        "    print (i)"
      ]
    },
    {
      "cell_type": "code",
      "metadata": {
        "id": "5nDfObU8k3FF",
        "colab": {
          "base_uri": "https://localhost:8080/"
        },
        "outputId": "15e36596-f338-4a06-833f-6efc61d4fc40"
      },
      "source": [
        "palavras = 'A Data Science Academy oferce os melhores cursos de análise de dados do Brasil'.split()\n",
        "\n",
        "resultado = map(lambda i: [i.upper(), i.lower(), len(i)], palavras)\n",
        "for a in resultado:\n",
        "  print(a)"
      ],
      "execution_count": 3,
      "outputs": [
        {
          "output_type": "stream",
          "name": "stdout",
          "text": [
            "['A', 'a', 1]\n",
            "['DATA', 'data', 4]\n",
            "['SCIENCE', 'science', 7]\n",
            "['ACADEMY', 'academy', 7]\n",
            "['OFERCE', 'oferce', 6]\n",
            "['OS', 'os', 2]\n",
            "['MELHORES', 'melhores', 8]\n",
            "['CURSOS', 'cursos', 6]\n",
            "['DE', 'de', 2]\n",
            "['ANÁLISE', 'análise', 7]\n",
            "['DE', 'de', 2]\n",
            "['DADOS', 'dados', 5]\n",
            "['DO', 'do', 2]\n",
            "['BRASIL', 'brasil', 6]\n"
          ]
        }
      ]
    },
    {
      "cell_type": "markdown",
      "metadata": {
        "id": "RtHguSFmmVj7"
      },
      "source": [
        "**Exercício 3** - Calcule a matriz transposta da matriz abaixo."
      ]
    },
    {
      "cell_type": "code",
      "metadata": {
        "colab": {
          "base_uri": "https://localhost:8080/"
        },
        "id": "B0hoZI6SmWDR",
        "outputId": "29fb3cd5-ac65-49dc-c0c7-77947673a124"
      },
      "source": [
        "matrix = [[1,2,4],[3,4,7],[5,6,9],[7,8,1]]\n",
        "\n",
        "transp = [[row[i] for row in matrix] for i in range(3)]\n",
        "print(transp)"
      ],
      "execution_count": 4,
      "outputs": [
        {
          "output_type": "stream",
          "name": "stdout",
          "text": [
            "[[1, 3, 5, 7], [2, 4, 6, 8], [4, 7, 9, 1]]\n"
          ]
        }
      ]
    },
    {
      "cell_type": "markdown",
      "metadata": {
        "id": "aF13DhDZvtQJ"
      },
      "source": [
        "**Exercício 4 -** Crie duas funções, uma para elevar um número ao quadrado e outra para elevar ao cubo. \n",
        "Aplique as duas funções aos elementos da lista abaixo. \n",
        "Obs: as duas funções devem ser aplicadas simultaneamente."
      ]
    },
    {
      "cell_type": "code",
      "metadata": {
        "colab": {
          "base_uri": "https://localhost:8080/"
        },
        "id": "wdYaGzueDhcm",
        "outputId": "e01c7054-f0a7-4659-d2d2-c4f43be7e444"
      },
      "source": [
        "lista = [0,1,2,3,4]\n",
        "\n",
        "def square (x): #função de raiz quadrada\n",
        "  return x**2\n",
        "def cube(x): #funcao de raiz cubica\n",
        "  return x**3\n",
        "funcs = [square, cube] #armazena os resultados\n",
        "\n",
        "for i in lista: #para cada elemento i na lista 'lista'\n",
        "  valor = map(lambda x: x(i), funcs) #atribui à valor o resultado da função\n",
        "  print(list(valor))"
      ],
      "execution_count": 11,
      "outputs": [
        {
          "output_type": "stream",
          "name": "stdout",
          "text": [
            "[0, 0]\n",
            "[1, 1]\n",
            "[4, 8]\n",
            "[9, 27]\n",
            "[16, 64]\n"
          ]
        }
      ]
    },
    {
      "cell_type": "code",
      "metadata": {
        "id": "bf3Ymh8MDfPH"
      },
      "source": [
        ""
      ],
      "execution_count": 4,
      "outputs": []
    },
    {
      "cell_type": "markdown",
      "metadata": {
        "id": "VGcmwDO_w3bE"
      },
      "source": [
        "**Exercício 5** - Abaixo você encontra duas listas. Faça com que cada elemento da listaA seja elevado \n",
        "ao elemento correspondente na listaB."
      ]
    },
    {
      "cell_type": "code",
      "metadata": {
        "colab": {
          "base_uri": "https://localhost:8080/"
        },
        "id": "XMcbJFzFzulz",
        "outputId": "54aaa30a-d76f-4f19-e7d6-7413c1dc876a"
      },
      "source": [
        "listaA = [2, 3, 4]\n",
        "listaB = [10, 11, 12]\n",
        "list(map(pow, listaA, listaB)) #usa o pow que significa potência para elevar o elemento 1 da lista um com o elemento 1 da lista 2 e assim por diante"
      ],
      "execution_count": 5,
      "outputs": [
        {
          "output_type": "execute_result",
          "data": {
            "text/plain": [
              "[1024, 177147, 16777216]"
            ]
          },
          "metadata": {},
          "execution_count": 5
        }
      ]
    },
    {
      "cell_type": "markdown",
      "metadata": {
        "id": "gAegYxxnw4YU"
      },
      "source": [
        "**Exercício 6 -** Considerando o range de valores abaixo, use a função filter() para retornar apenas os valores negativos.\n",
        "range(-5, 5)"
      ]
    },
    {
      "cell_type": "code",
      "metadata": {
        "colab": {
          "base_uri": "https://localhost:8080/"
        },
        "id": "XC-5lWpXw6bU",
        "outputId": "0fd0d9ee-fa29-47ce-aed3-0fb62adfee3c"
      },
      "source": [
        "range(-5,5)\n",
        "list(filter((lambda x: x < 0), range(-5,5)))"
      ],
      "execution_count": 6,
      "outputs": [
        {
          "output_type": "execute_result",
          "data": {
            "text/plain": [
              "[-5, -4, -3, -2, -1]"
            ]
          },
          "metadata": {},
          "execution_count": 6
        }
      ]
    },
    {
      "cell_type": "markdown",
      "metadata": {
        "id": "NpD1rnh80dfs"
      },
      "source": [
        "**Exercício 7 -** Usando a função filter(), encontre os valores que são comuns às duas listas abaixo."
      ]
    },
    {
      "cell_type": "code",
      "metadata": {
        "colab": {
          "base_uri": "https://localhost:8080/"
        },
        "id": "HqyClsT10fP1",
        "outputId": "bfbe148a-8115-4eb7-a2d5-e668d1df486a"
      },
      "source": [
        "a = [1,2,3,5,7,9,1]\n",
        "b = [2,3,5,6,7,8,1]\n",
        "\n",
        "print(list(filter(lambda x: x in a, b)))"
      ],
      "execution_count": 7,
      "outputs": [
        {
          "output_type": "stream",
          "name": "stdout",
          "text": [
            "[2, 3, 5, 7, 1]\n"
          ]
        }
      ]
    },
    {
      "cell_type": "markdown",
      "metadata": {
        "id": "Ekzf4rcL0uXB"
      },
      "source": [
        "**Exercício 8 -** Considere o código abaixo. Obtenha o mesmo resultado usando o pacote time. "
      ]
    },
    {
      "cell_type": "code",
      "metadata": {
        "colab": {
          "base_uri": "https://localhost:8080/"
        },
        "id": "niB8OPlT0xa9",
        "outputId": "2595fca6-c46f-4da0-f6ca-5bbfc25a6c1d"
      },
      "source": [
        "import datetime\n",
        "print (datetime.datetime.now().strftime(\"%d/%m/%Y %H:%M\"))\n",
        "\n",
        "import time\n",
        "print (time.strftime(\"%d/%m/%Y %H:%M\"))"
      ],
      "execution_count": 8,
      "outputs": [
        {
          "output_type": "stream",
          "name": "stdout",
          "text": [
            "05/10/2021 01:28\n",
            "05/10/2021 01:28\n"
          ]
        }
      ]
    },
    {
      "cell_type": "markdown",
      "metadata": {
        "id": "X4mJh65O1LBL"
      },
      "source": [
        "**Exercício 9 -** Considere os dois dicionários abaixo. \n",
        "Crie um terceiro dicionário com as chaves do dicionário 1 e os valores do dicionário 2."
      ]
    },
    {
      "cell_type": "code",
      "metadata": {
        "colab": {
          "base_uri": "https://localhost:8080/"
        },
        "id": "MkWv8aOg1KQm",
        "outputId": "e865fdd1-3f1f-444b-a64e-12e11f9c6538"
      },
      "source": [
        "dict1 = {'a':1,'b':2}\n",
        "dict2 = {'c':4,'d':5}\n",
        "\n",
        "def trocaValores(d1, d2):\n",
        "  dicTemp = {}\n",
        "\n",
        "  for d1key, d2val in zip(d1,d2.values()):\n",
        "    dicTemp[d1key] = d2val\n",
        "\n",
        "    return dicTemp\n",
        "\n",
        "dict3 = trocaValores(dict1,dict2)\n",
        "print(dict3)"
      ],
      "execution_count": 9,
      "outputs": [
        {
          "output_type": "stream",
          "name": "stdout",
          "text": [
            "{'a': 4}\n"
          ]
        }
      ]
    },
    {
      "cell_type": "markdown",
      "metadata": {
        "id": "4_Qlx10v2Gko"
      },
      "source": [
        "**Exercício 10 -** Considere a lista abaixo e retorne apenas os elementos cujo índice for maior que 5."
      ]
    },
    {
      "cell_type": "code",
      "metadata": {
        "colab": {
          "base_uri": "https://localhost:8080/"
        },
        "id": "unrdvfMQ2MND",
        "outputId": "6ee3821a-dd5d-46a5-f996-cfd2df24e63b"
      },
      "source": [
        "lista = ['a', 'b', 'c', 'd', 'e', 'f', 'g', 'h']\n",
        "\n",
        "for indice, valor in enumerate(lista):\n",
        "  if indice < 5:\n",
        "    continue\n",
        "  else:\n",
        "    print(valor)"
      ],
      "execution_count": 10,
      "outputs": [
        {
          "output_type": "stream",
          "name": "stdout",
          "text": [
            "f\n",
            "g\n",
            "h\n"
          ]
        }
      ]
    }
  ]
}