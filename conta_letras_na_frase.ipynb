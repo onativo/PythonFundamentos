{
  "nbformat": 4,
  "nbformat_minor": 0,
  "metadata": {
    "colab": {
      "name": "conta-letras.ipynb",
      "provenance": [],
      "authorship_tag": "ABX9TyNXaIPmeTSVojHPmGVWbtUk",
      "include_colab_link": true
    },
    "kernelspec": {
      "name": "python3",
      "display_name": "Python 3"
    },
    "language_info": {
      "name": "python"
    }
  },
  "cells": [
    {
      "cell_type": "markdown",
      "metadata": {
        "id": "view-in-github",
        "colab_type": "text"
      },
      "source": [
        "<a href=\"https://colab.research.google.com/github/onativo/PythonFundamentos/blob/master/conta_letras_na_frase.ipynb\" target=\"_parent\"><img src=\"https://colab.research.google.com/assets/colab-badge.svg\" alt=\"Open In Colab\"/></a>"
      ]
    },
    {
      "cell_type": "code",
      "metadata": {
        "colab": {
          "base_uri": "https://localhost:8080/"
        },
        "id": "Q3tHWDj8aiTc",
        "outputId": "214984a7-0af1-4923-8126-ffa3137b3068"
      },
      "source": [
        "frase = str(input('Insira a sua frase: '))\n",
        "letra = str(input('Qual letra deseja contar na frase: '))\n",
        "c = 0\n",
        "\n",
        "\n",
        "for i in frase:\n",
        "  if i == letra:\n",
        "    c += 1\n",
        "print(f'A letra {letra} aparece {c} vezes na sua frase.')"
      ],
      "execution_count": 4,
      "outputs": [
        {
          "output_type": "stream",
          "name": "stdout",
          "text": [
            "Insira a sua frase: A vida e uma caixa preta nunca saberemos o seu real significado.⁠\n",
            "Qual letra deseja contar na frase: x\n",
            "a letra x aparece 1 vezes na sua frase.\n"
          ]
        }
      ]
    }
  ]
}